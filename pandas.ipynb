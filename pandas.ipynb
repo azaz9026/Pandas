{
  "nbformat": 4,
  "nbformat_minor": 0,
  "metadata": {
    "colab": {
      "provenance": [],
      "authorship_tag": "ABX9TyMZi8R66R4imM6KuSY90z6S",
      "include_colab_link": true
    },
    "kernelspec": {
      "name": "python3",
      "display_name": "Python 3"
    },
    "language_info": {
      "name": "python"
    }
  },
  "cells": [
    {
      "cell_type": "markdown",
      "metadata": {
        "id": "view-in-github",
        "colab_type": "text"
      },
      "source": [
        "<a href=\"https://colab.research.google.com/github/azaz9026/Pandas/blob/main/pandas.ipynb\" target=\"_parent\"><img src=\"https://colab.research.google.com/assets/colab-badge.svg\" alt=\"Open In Colab\"/></a>"
      ]
    },
    {
      "cell_type": "code",
      "source": [
        "pip install pandas"
      ],
      "metadata": {
        "id": "CiijsSuKz8fZ"
      },
      "execution_count": null,
      "outputs": []
    },
    {
      "cell_type": "markdown",
      "source": [
        "Pandas as pd"
      ],
      "metadata": {
        "id": "0zk96ME61O_g"
      }
    },
    {
      "cell_type": "code",
      "source": [
        "import pandas as pd"
      ],
      "metadata": {
        "id": "nFHJyEKg0HlF"
      },
      "execution_count": null,
      "outputs": []
    },
    {
      "cell_type": "code",
      "source": [
        "my_data = {\n",
        "    \"name\" : [\"Azaz\" , \"Lux\" , \"Harshit\"],\n",
        "    \"Roll No\" : [20 , 30 , 50]\n",
        "}\n",
        "\n",
        "data = pd.DataFrame(my_data)\n",
        "print(data)"
      ],
      "metadata": {
        "colab": {
          "base_uri": "https://localhost:8080/"
        },
        "id": "4_fGcEFA0V5i",
        "outputId": "bb71e105-67cf-4ffd-bc09-b1f1d9c5e3ec"
      },
      "execution_count": null,
      "outputs": [
        {
          "output_type": "stream",
          "name": "stdout",
          "text": [
            "      name  Roll No\n",
            "0     Azaz       20\n",
            "1      Lux       30\n",
            "2  Harshit       50\n"
          ]
        }
      ]
    },
    {
      "cell_type": "markdown",
      "source": [
        "Checking Pandas Version\n"
      ],
      "metadata": {
        "id": "0z1ev7Gj1WFU"
      }
    },
    {
      "cell_type": "markdown",
      "source": [
        "The version string is stored under __version__ attribute."
      ],
      "metadata": {
        "id": "OOd45kKG6RjN"
      }
    },
    {
      "cell_type": "code",
      "source": [
        "print (pd.__version__)"
      ],
      "metadata": {
        "colab": {
          "base_uri": "https://localhost:8080/"
        },
        "id": "9BXy0a1Q1bYp",
        "outputId": "d329713b-44e8-4bfd-d99a-41e0e7482435"
      },
      "execution_count": null,
      "outputs": [
        {
          "output_type": "stream",
          "name": "stdout",
          "text": [
            "1.5.3\n"
          ]
        }
      ]
    },
    {
      "cell_type": "markdown",
      "source": [
        "Pandas Series"
      ],
      "metadata": {
        "id": "kZbmL4g92gP1"
      }
    },
    {
      "cell_type": "code",
      "source": [
        "list1 = [1,2,3,4,5,6,7,8,9]\n",
        "my_list = pd.Series(list1)\n",
        "print(my_list)"
      ],
      "metadata": {
        "colab": {
          "base_uri": "https://localhost:8080/"
        },
        "id": "Ws3U3Y8Y1-dk",
        "outputId": "c717bbd2-9513-4ead-c3b8-cc01505de225"
      },
      "execution_count": null,
      "outputs": [
        {
          "output_type": "stream",
          "name": "stdout",
          "text": [
            "0    1\n",
            "1    2\n",
            "2    3\n",
            "3    4\n",
            "4    5\n",
            "5    6\n",
            "6    7\n",
            "7    8\n",
            "8    9\n",
            "dtype: int64\n"
          ]
        }
      ]
    },
    {
      "cell_type": "markdown",
      "source": [
        "Labels"
      ],
      "metadata": {
        "id": "1_EEP7KH3khl"
      }
    },
    {
      "cell_type": "code",
      "source": [
        "print(my_list[5])"
      ],
      "metadata": {
        "colab": {
          "base_uri": "https://localhost:8080/"
        },
        "id": "O5H0BTg32o13",
        "outputId": "e662627a-b6a5-408c-9b9d-a3fee8a52e69"
      },
      "execution_count": null,
      "outputs": [
        {
          "output_type": "stream",
          "name": "stdout",
          "text": [
            "6\n"
          ]
        }
      ]
    },
    {
      "cell_type": "markdown",
      "source": [
        "Create Labels"
      ],
      "metadata": {
        "id": "EC_pE6YZ3h9r"
      }
    },
    {
      "cell_type": "code",
      "source": [
        "list2 = [1,2,3]\n",
        "mylist = pd.Series(list2 , index = [\"x\" , \"y\" , \"z\"])\n",
        "print(mylist)\n",
        "print(mylist[2])"
      ],
      "metadata": {
        "colab": {
          "base_uri": "https://localhost:8080/"
        },
        "id": "ft-N1Rkz26qS",
        "outputId": "1a48eb88-eb12-40e1-d5dd-60a5c604cca2"
      },
      "execution_count": null,
      "outputs": [
        {
          "output_type": "stream",
          "name": "stdout",
          "text": [
            "x    1\n",
            "y    2\n",
            "z    3\n",
            "dtype: int64\n",
            "3\n"
          ]
        }
      ]
    },
    {
      "cell_type": "code",
      "source": [
        "print(mylist[\"z\"])"
      ],
      "metadata": {
        "colab": {
          "base_uri": "https://localhost:8080/"
        },
        "id": "TF6XmK9e3vyf",
        "outputId": "c2ea3d1b-c37b-4650-8f29-f28e917dcc00"
      },
      "execution_count": null,
      "outputs": [
        {
          "output_type": "stream",
          "name": "stdout",
          "text": [
            "3\n"
          ]
        }
      ]
    },
    {
      "cell_type": "markdown",
      "source": [
        "Key/Value Objects as Series"
      ],
      "metadata": {
        "id": "Zvi5YJx64EQ9"
      }
    },
    {
      "cell_type": "code",
      "source": [
        "person = {\n",
        "    \"Name\" : \"Azaz\" ,\n",
        "    \"Age\" : 21 ,\n",
        "    \"Lang\" : \"Python\"\n",
        "}\n",
        "\n",
        "data_of_person = pd.Series(person)\n",
        "print(data_of_person)"
      ],
      "metadata": {
        "colab": {
          "base_uri": "https://localhost:8080/"
        },
        "id": "8Fe5639d4FFL",
        "outputId": "173eded3-742d-407b-e59a-96c4d76edbf6"
      },
      "execution_count": null,
      "outputs": [
        {
          "output_type": "stream",
          "name": "stdout",
          "text": [
            "Name      Azaz\n",
            "Age         21\n",
            "Lang    Python\n",
            "dtype: object\n"
          ]
        }
      ]
    },
    {
      "cell_type": "code",
      "source": [
        "data_index = pd.Series(person , index = [\"Name\" , \"Lang\"])\n",
        "print(data_index)"
      ],
      "metadata": {
        "colab": {
          "base_uri": "https://localhost:8080/"
        },
        "id": "eKTLEEq15CM2",
        "outputId": "7157dde2-e5af-400b-d253-85a96213e5fa"
      },
      "execution_count": null,
      "outputs": [
        {
          "output_type": "stream",
          "name": "stdout",
          "text": [
            "Name      Azaz\n",
            "Lang    Python\n",
            "dtype: object\n"
          ]
        }
      ]
    },
    {
      "cell_type": "markdown",
      "source": [
        "DataFrames"
      ],
      "metadata": {
        "id": "pqH4zLOv5irt"
      }
    },
    {
      "cell_type": "code",
      "source": [
        "data = {\n",
        "  \"calories\": [420, 380, 390],\n",
        "  \"duration\": [50, 40, 45]\n",
        "}\n",
        "\n",
        "mydata = pd.DataFrame(data)\n",
        "print(mydata)"
      ],
      "metadata": {
        "colab": {
          "base_uri": "https://localhost:8080/"
        },
        "id": "i_XHC1vw5j78",
        "outputId": "6c57aa70-3546-4a1e-fc59-ab6c911ac89f"
      },
      "execution_count": null,
      "outputs": [
        {
          "output_type": "stream",
          "name": "stdout",
          "text": [
            "   calories  duration\n",
            "0       420        50\n",
            "1       380        40\n",
            "2       390        45\n"
          ]
        }
      ]
    },
    {
      "cell_type": "markdown",
      "source": [
        "What is a DataFrame?"
      ],
      "metadata": {
        "id": "3yrYV0ba6G3O"
      }
    },
    {
      "cell_type": "markdown",
      "source": [
        "A Pandas DataFrame is a 2 dimensional data structure, like a 2 dimensional array, or a table with rows and columns"
      ],
      "metadata": {
        "id": "ZFSKmzM76J9q"
      }
    },
    {
      "cell_type": "code",
      "source": [
        "data1 = {\n",
        "  \"day\": [\"Sunday\", \"Monday\" , \"Tueday\"],\n",
        "  \"Name\": [\"Azaz\",\"Lux\" , \"Harshit\"]\n",
        "}\n",
        "\n",
        "pf = pd.DataFrame(data1)\n",
        "print(pf)"
      ],
      "metadata": {
        "colab": {
          "base_uri": "https://localhost:8080/"
        },
        "id": "ecanOTG46UMF",
        "outputId": "03d4151a-80d7-4bb7-aad6-05c700da3847"
      },
      "execution_count": null,
      "outputs": [
        {
          "output_type": "stream",
          "name": "stdout",
          "text": [
            "      day     Name\n",
            "0  Sunday     Azaz\n",
            "1  Monday      Lux\n",
            "2  Tueday  Harshit\n"
          ]
        }
      ]
    },
    {
      "cell_type": "markdown",
      "source": [
        "Locate Row"
      ],
      "metadata": {
        "id": "lo0VBYDT7cPT"
      }
    },
    {
      "cell_type": "code",
      "source": [
        "print(pf.loc[0])"
      ],
      "metadata": {
        "colab": {
          "base_uri": "https://localhost:8080/"
        },
        "id": "6u15Gpfe7dQi",
        "outputId": "49b91cfe-5ae3-4b22-97c9-83ae31c75eaf"
      },
      "execution_count": null,
      "outputs": [
        {
          "output_type": "stream",
          "name": "stdout",
          "text": [
            "day     Sunday\n",
            "Name      Azaz\n",
            "Name: 0, dtype: object\n"
          ]
        }
      ]
    },
    {
      "cell_type": "code",
      "source": [
        "print(pf.loc[[0 , 1]])"
      ],
      "metadata": {
        "colab": {
          "base_uri": "https://localhost:8080/"
        },
        "id": "zLJhajOU7yGq",
        "outputId": "621f4c3b-126d-418b-a4bf-2ca5b638ac89"
      },
      "execution_count": null,
      "outputs": [
        {
          "output_type": "stream",
          "name": "stdout",
          "text": [
            "      day  Name\n",
            "0  Sunday  Azaz\n",
            "1  Monday   Lux\n"
          ]
        }
      ]
    },
    {
      "cell_type": "markdown",
      "source": [
        "Named Indexes"
      ],
      "metadata": {
        "id": "tIMqGfL88RdI"
      }
    },
    {
      "cell_type": "code",
      "source": [
        "data1 = {\n",
        "  \"day\": [\"Sunday\", \"Monday\" , \"Tueday\"],\n",
        "  \"Name\": [\"Azaz\",\"Lux\" , \"Harshit\"]\n",
        "}\n",
        "df = pd.DataFrame(data1 , index = [\"x\",\"y\",\"z\"])\n",
        "print(df)"
      ],
      "metadata": {
        "colab": {
          "base_uri": "https://localhost:8080/"
        },
        "id": "-v2MeEG-8BRG",
        "outputId": "1195a406-de3e-4303-b3ed-a641f4137b7d"
      },
      "execution_count": null,
      "outputs": [
        {
          "output_type": "stream",
          "name": "stdout",
          "text": [
            "      day     Name\n",
            "x  Sunday     Azaz\n",
            "y  Monday      Lux\n",
            "z  Tueday  Harshit\n"
          ]
        }
      ]
    },
    {
      "cell_type": "markdown",
      "source": [
        "Locate Named Indexes"
      ],
      "metadata": {
        "id": "6tFDcgjc8b8_"
      }
    },
    {
      "cell_type": "code",
      "source": [
        "print(df.loc[\"x\"])"
      ],
      "metadata": {
        "colab": {
          "base_uri": "https://localhost:8080/"
        },
        "id": "t3ri5yR-8eby",
        "outputId": "940d4c0e-4fd1-4bce-acde-65333c351d74"
      },
      "execution_count": null,
      "outputs": [
        {
          "output_type": "stream",
          "name": "stdout",
          "text": [
            "day     Sunday\n",
            "Name      Azaz\n",
            "Name: x, dtype: object\n"
          ]
        }
      ]
    },
    {
      "cell_type": "code",
      "source": [
        "print(df.loc[[\"x\" , \"y\"]])"
      ],
      "metadata": {
        "colab": {
          "base_uri": "https://localhost:8080/"
        },
        "id": "KWL3xZCz8mBY",
        "outputId": "c835abdd-3548-4799-dfaf-a0f516fbb057"
      },
      "execution_count": null,
      "outputs": [
        {
          "output_type": "stream",
          "name": "stdout",
          "text": [
            "      day  Name\n",
            "x  Sunday  Azaz\n",
            "y  Monday   Lux\n"
          ]
        }
      ]
    },
    {
      "cell_type": "markdown",
      "source": [
        "Load Files Into a DataFrame"
      ],
      "metadata": {
        "id": "dJn2TLsa85VB"
      }
    },
    {
      "cell_type": "code",
      "source": [
        "df = pd.read_csv('data.csv')\n",
        "print(df)"
      ],
      "metadata": {
        "colab": {
          "base_uri": "https://localhost:8080/"
        },
        "id": "ExPKqo-y86dq",
        "outputId": "aa2de745-0804-4955-c181-133f79587672"
      },
      "execution_count": null,
      "outputs": [
        {
          "output_type": "stream",
          "name": "stdout",
          "text": [
            "     Duration  Pulse  Maxpulse  Calories\n",
            "0          60    110       130     409.1\n",
            "1          60    117       145     479.0\n",
            "2          60    103       135     340.0\n",
            "3          45    109       175     282.4\n",
            "4          45    117       148     406.0\n",
            "..        ...    ...       ...       ...\n",
            "164        60    105       140     290.8\n",
            "165        60    110       145     300.0\n",
            "166        60    115       145     310.2\n",
            "167        75    120       150     320.4\n",
            "168        75    125       150     330.4\n",
            "\n",
            "[169 rows x 4 columns]\n"
          ]
        }
      ]
    },
    {
      "cell_type": "markdown",
      "source": [
        "Read CSV Files"
      ],
      "metadata": {
        "id": "hWlGTfGq9mGM"
      }
    },
    {
      "cell_type": "code",
      "source": [
        "print(df.to_string())"
      ],
      "metadata": {
        "colab": {
          "base_uri": "https://localhost:8080/"
        },
        "id": "8Hh7De-m9m1I",
        "outputId": "d8098792-1f42-4754-f131-655a708974bc"
      },
      "execution_count": null,
      "outputs": [
        {
          "output_type": "stream",
          "name": "stdout",
          "text": [
            "     Duration  Pulse  Maxpulse  Calories\n",
            "0          60    110       130     409.1\n",
            "1          60    117       145     479.0\n",
            "2          60    103       135     340.0\n",
            "3          45    109       175     282.4\n",
            "4          45    117       148     406.0\n",
            "5          60    102       127     300.0\n",
            "6          60    110       136     374.0\n",
            "7          45    104       134     253.3\n",
            "8          30    109       133     195.1\n",
            "9          60     98       124     269.0\n",
            "10         60    103       147     329.3\n",
            "11         60    100       120     250.7\n",
            "12         60    106       128     345.3\n",
            "13         60    104       132     379.3\n",
            "14         60     98       123     275.0\n",
            "15         60     98       120     215.2\n",
            "16         60    100       120     300.0\n",
            "17         45     90       112       NaN\n",
            "18         60    103       123     323.0\n",
            "19         45     97       125     243.0\n",
            "20         60    108       131     364.2\n",
            "21         45    100       119     282.0\n",
            "22         60    130       101     300.0\n",
            "23         45    105       132     246.0\n",
            "24         60    102       126     334.5\n",
            "25         60    100       120     250.0\n",
            "26         60     92       118     241.0\n",
            "27         60    103       132       NaN\n",
            "28         60    100       132     280.0\n",
            "29         60    102       129     380.3\n",
            "30         60     92       115     243.0\n",
            "31         45     90       112     180.1\n",
            "32         60    101       124     299.0\n",
            "33         60     93       113     223.0\n",
            "34         60    107       136     361.0\n",
            "35         60    114       140     415.0\n",
            "36         60    102       127     300.0\n",
            "37         60    100       120     300.0\n",
            "38         60    100       120     300.0\n",
            "39         45    104       129     266.0\n",
            "40         45     90       112     180.1\n",
            "41         60     98       126     286.0\n",
            "42         60    100       122     329.4\n",
            "43         60    111       138     400.0\n",
            "44         60    111       131     397.0\n",
            "45         60     99       119     273.0\n",
            "46         60    109       153     387.6\n",
            "47         45    111       136     300.0\n",
            "48         45    108       129     298.0\n",
            "49         60    111       139     397.6\n",
            "50         60    107       136     380.2\n",
            "51         80    123       146     643.1\n",
            "52         60    106       130     263.0\n",
            "53         60    118       151     486.0\n",
            "54         30    136       175     238.0\n",
            "55         60    121       146     450.7\n",
            "56         60    118       121     413.0\n",
            "57         45    115       144     305.0\n",
            "58         20    153       172     226.4\n",
            "59         45    123       152     321.0\n",
            "60        210    108       160    1376.0\n",
            "61        160    110       137    1034.4\n",
            "62        160    109       135     853.0\n",
            "63         45    118       141     341.0\n",
            "64         20    110       130     131.4\n",
            "65        180     90       130     800.4\n",
            "66        150    105       135     873.4\n",
            "67        150    107       130     816.0\n",
            "68         20    106       136     110.4\n",
            "69        300    108       143    1500.2\n",
            "70        150     97       129    1115.0\n",
            "71         60    109       153     387.6\n",
            "72         90    100       127     700.0\n",
            "73        150     97       127     953.2\n",
            "74         45    114       146     304.0\n",
            "75         90     98       125     563.2\n",
            "76         45    105       134     251.0\n",
            "77         45    110       141     300.0\n",
            "78        120    100       130     500.4\n",
            "79        270    100       131    1729.0\n",
            "80         30    159       182     319.2\n",
            "81         45    149       169     344.0\n",
            "82         30    103       139     151.1\n",
            "83        120    100       130     500.0\n",
            "84         45    100       120     225.3\n",
            "85         30    151       170     300.0\n",
            "86         45    102       136     234.0\n",
            "87        120    100       157    1000.1\n",
            "88         45    129       103     242.0\n",
            "89         20     83       107      50.3\n",
            "90        180    101       127     600.1\n",
            "91         45    107       137       NaN\n",
            "92         30     90       107     105.3\n",
            "93         15     80       100      50.5\n",
            "94         20    150       171     127.4\n",
            "95         20    151       168     229.4\n",
            "96         30     95       128     128.2\n",
            "97         25    152       168     244.2\n",
            "98         30    109       131     188.2\n",
            "99         90     93       124     604.1\n",
            "100        20     95       112      77.7\n",
            "101        90     90       110     500.0\n",
            "102        90     90       100     500.0\n",
            "103        90     90       100     500.4\n",
            "104        30     92       108      92.7\n",
            "105        30     93       128     124.0\n",
            "106       180     90       120     800.3\n",
            "107        30     90       120      86.2\n",
            "108        90     90       120     500.3\n",
            "109       210    137       184    1860.4\n",
            "110        60    102       124     325.2\n",
            "111        45    107       124     275.0\n",
            "112        15    124       139     124.2\n",
            "113        45    100       120     225.3\n",
            "114        60    108       131     367.6\n",
            "115        60    108       151     351.7\n",
            "116        60    116       141     443.0\n",
            "117        60     97       122     277.4\n",
            "118        60    105       125       NaN\n",
            "119        60    103       124     332.7\n",
            "120        30    112       137     193.9\n",
            "121        45    100       120     100.7\n",
            "122        60    119       169     336.7\n",
            "123        60    107       127     344.9\n",
            "124        60    111       151     368.5\n",
            "125        60     98       122     271.0\n",
            "126        60     97       124     275.3\n",
            "127        60    109       127     382.0\n",
            "128        90     99       125     466.4\n",
            "129        60    114       151     384.0\n",
            "130        60    104       134     342.5\n",
            "131        60    107       138     357.5\n",
            "132        60    103       133     335.0\n",
            "133        60    106       132     327.5\n",
            "134        60    103       136     339.0\n",
            "135        20    136       156     189.0\n",
            "136        45    117       143     317.7\n",
            "137        45    115       137     318.0\n",
            "138        45    113       138     308.0\n",
            "139        20    141       162     222.4\n",
            "140        60    108       135     390.0\n",
            "141        60     97       127       NaN\n",
            "142        45    100       120     250.4\n",
            "143        45    122       149     335.4\n",
            "144        60    136       170     470.2\n",
            "145        45    106       126     270.8\n",
            "146        60    107       136     400.0\n",
            "147        60    112       146     361.9\n",
            "148        30    103       127     185.0\n",
            "149        60    110       150     409.4\n",
            "150        60    106       134     343.0\n",
            "151        60    109       129     353.2\n",
            "152        60    109       138     374.0\n",
            "153        30    150       167     275.8\n",
            "154        60    105       128     328.0\n",
            "155        60    111       151     368.5\n",
            "156        60     97       131     270.4\n",
            "157        60    100       120     270.4\n",
            "158        60    114       150     382.8\n",
            "159        30     80       120     240.9\n",
            "160        30     85       120     250.4\n",
            "161        45     90       130     260.4\n",
            "162        45     95       130     270.0\n",
            "163        45    100       140     280.9\n",
            "164        60    105       140     290.8\n",
            "165        60    110       145     300.0\n",
            "166        60    115       145     310.2\n",
            "167        75    120       150     320.4\n",
            "168        75    125       150     330.4\n"
          ]
        }
      ]
    },
    {
      "cell_type": "code",
      "source": [
        "print(pd.options.display.max_rows)"
      ],
      "metadata": {
        "colab": {
          "base_uri": "https://localhost:8080/"
        },
        "id": "ptu-65tZ9xRx",
        "outputId": "98718e14-ff50-467a-8679-c0acb028a1af"
      },
      "execution_count": null,
      "outputs": [
        {
          "output_type": "stream",
          "name": "stdout",
          "text": [
            "60\n"
          ]
        }
      ]
    },
    {
      "cell_type": "code",
      "source": [
        "pd.options.display.max_rows = 100\n",
        "df = pd.read_csv(\"data.csv\")\n",
        "print(df)"
      ],
      "metadata": {
        "colab": {
          "base_uri": "https://localhost:8080/"
        },
        "id": "8I6Npiq_-cgL",
        "outputId": "5d6867f3-a9eb-4c63-e47f-3e08c9420b74"
      },
      "execution_count": null,
      "outputs": [
        {
          "output_type": "stream",
          "name": "stdout",
          "text": [
            "     Duration  Pulse  Maxpulse  Calories\n",
            "0          60    110       130     409.1\n",
            "1          60    117       145     479.0\n",
            "2          60    103       135     340.0\n",
            "3          45    109       175     282.4\n",
            "4          45    117       148     406.0\n",
            "..        ...    ...       ...       ...\n",
            "164        60    105       140     290.8\n",
            "165        60    110       145     300.0\n",
            "166        60    115       145     310.2\n",
            "167        75    120       150     320.4\n",
            "168        75    125       150     330.4\n",
            "\n",
            "[169 rows x 4 columns]\n"
          ]
        }
      ]
    },
    {
      "cell_type": "markdown",
      "source": [
        "Viewing the Data"
      ],
      "metadata": {
        "id": "yxDPHBCw_KRZ"
      }
    },
    {
      "cell_type": "code",
      "source": [
        "  print(df.head(10))"
      ],
      "metadata": {
        "colab": {
          "base_uri": "https://localhost:8080/"
        },
        "id": "hpap5IKB_Lu1",
        "outputId": "f6c8075a-4d26-4969-ac0d-1f09ab4202f6"
      },
      "execution_count": null,
      "outputs": [
        {
          "output_type": "stream",
          "name": "stdout",
          "text": [
            "   Duration  Pulse  Maxpulse  Calories\n",
            "0        60    110       130     409.1\n",
            "1        60    117       145     479.0\n",
            "2        60    103       135     340.0\n",
            "3        45    109       175     282.4\n",
            "4        45    117       148     406.0\n",
            "5        60    102       127     300.0\n",
            "6        60    110       136     374.0\n",
            "7        45    104       134     253.3\n",
            "8        30    109       133     195.1\n",
            "9        60     98       124     269.0\n"
          ]
        }
      ]
    },
    {
      "cell_type": "code",
      "source": [
        "print(df.tail(10))"
      ],
      "metadata": {
        "colab": {
          "base_uri": "https://localhost:8080/"
        },
        "id": "iB-vlTqm_bBV",
        "outputId": "f239af92-bb18-4335-a65c-0d7726f49064"
      },
      "execution_count": null,
      "outputs": [
        {
          "output_type": "stream",
          "name": "stdout",
          "text": [
            "     Duration  Pulse  Maxpulse  Calories\n",
            "159        30     80       120     240.9\n",
            "160        30     85       120     250.4\n",
            "161        45     90       130     260.4\n",
            "162        45     95       130     270.0\n",
            "163        45    100       140     280.9\n",
            "164        60    105       140     290.8\n",
            "165        60    110       145     300.0\n",
            "166        60    115       145     310.2\n",
            "167        75    120       150     320.4\n",
            "168        75    125       150     330.4\n"
          ]
        }
      ]
    },
    {
      "cell_type": "markdown",
      "source": [
        "Info About the Data"
      ],
      "metadata": {
        "id": "fyWIbVTF_jq0"
      }
    },
    {
      "cell_type": "code",
      "source": [
        "print(df.info())"
      ],
      "metadata": {
        "id": "OaJ1cujj_kbZ",
        "outputId": "9dcd5b49-775a-44e2-b827-1421b62af1e4",
        "colab": {
          "base_uri": "https://localhost:8080/"
        }
      },
      "execution_count": null,
      "outputs": [
        {
          "output_type": "stream",
          "name": "stdout",
          "text": [
            "<class 'pandas.core.frame.DataFrame'>\n",
            "RangeIndex: 169 entries, 0 to 168\n",
            "Data columns (total 4 columns):\n",
            " #   Column    Non-Null Count  Dtype  \n",
            "---  ------    --------------  -----  \n",
            " 0   Duration  169 non-null    int64  \n",
            " 1   Pulse     169 non-null    int64  \n",
            " 2   Maxpulse  169 non-null    int64  \n",
            " 3   Calories  164 non-null    float64\n",
            "dtypes: float64(1), int64(3)\n",
            "memory usage: 5.4 KB\n",
            "None\n"
          ]
        }
      ]
    }
  ]
}