{
  "nbformat": 4,
  "nbformat_minor": 0,
  "metadata": {
    "colab": {
      "provenance": [],
      "authorship_tag": "ABX9TyNGtUGDQ+NIKuiVH2Oj+hRA",
      "include_colab_link": true
    },
    "kernelspec": {
      "name": "python3",
      "display_name": "Python 3"
    },
    "language_info": {
      "name": "python"
    }
  },
  "cells": [
    {
      "cell_type": "markdown",
      "metadata": {
        "id": "view-in-github",
        "colab_type": "text"
      },
      "source": [
        "<a href=\"https://colab.research.google.com/github/azaz9026/Pandas/blob/main/Cleaning_Data.ipynb\" target=\"_parent\"><img src=\"https://colab.research.google.com/assets/colab-badge.svg\" alt=\"Open In Colab\"/></a>"
      ]
    },
    {
      "cell_type": "markdown",
      "source": [
        "Data Cleaning"
      ],
      "metadata": {
        "id": "MZ5d9ly656eL"
      }
    },
    {
      "cell_type": "markdown",
      "source": [
        "Data cleaning means fixing bad data in your data set.\n",
        "\n",
        "Bad data could be:\n",
        "\n",
        "Empty cells\n",
        "Data in wrong format\n",
        "Wrong data\n",
        "Duplicates\n",
        "In this tutorial you will learn how to deal with all of them."
      ],
      "metadata": {
        "id": "mvV69VaR59fK"
      }
    },
    {
      "cell_type": "code",
      "source": [
        "import pandas as pd\n",
        "\n",
        "df = pd.read_csv('data1.csv')\n",
        "\n",
        "df.dropna(inplace = True)\n",
        "\n",
        "print(df.to_string())\n"
      ],
      "metadata": {
        "id": "VDW0ACd-6BgO"
      },
      "execution_count": null,
      "outputs": []
    },
    {
      "cell_type": "markdown",
      "source": [
        "Replace Empty Values"
      ],
      "metadata": {
        "id": "Ybj6BSsi7_g5"
      }
    },
    {
      "cell_type": "code",
      "source": [
        "import pandas as pd\n",
        "\n",
        "df = pd.read_csv('data1.csv')\n",
        "\n",
        "df.fillna(130, inplace = True)\n",
        "print(df.to_string())"
      ],
      "metadata": {
        "colab": {
          "base_uri": "https://localhost:8080/"
        },
        "id": "pn_Ab1YC8BEC",
        "outputId": "5e5a87b5-94d7-4714-ca97-c3fb0e305d20"
      },
      "execution_count": 14,
      "outputs": [
        {
          "output_type": "stream",
          "name": "stdout",
          "text": [
            "          Duration          Date  Pulse  Maxpulse  Calories\n",
            "0     0         60  '2020/12/01'    110       130     409.1\n",
            "1     1         60  '2020/12/02'    117       145     479.0\n",
            "2     2         60  '2020/12/03'    103       135     340.0\n",
            "3     3         45  '2020/12/04'    109       175     282.4\n",
            "4     4         45  '2020/12/05'    117       148     406.0\n",
            "5     5         60  '2020/12/06'    102       127     300.0\n",
            "6     6         60  '2020/12/07'    110       136     374.0\n",
            "7     7        450  '2020/12/08'    104       134     253.3\n",
            "8     8         30  '2020/12/09'    109       133     195.1\n",
            "9     9         60  '2020/12/10'     98       124     269.0\n",
            "10    10        60  '2020/12/11'    103       147     329.3\n",
            "11    11        60  '2020/12/12'    100       120     250.7\n",
            "12    12        60  '2020/12/12'    100       120     250.7\n",
            "13    13        60  '2020/12/13'    106       128     345.3\n",
            "14    14        60  '2020/12/14'    104       132     379.3\n",
            "15    15        60  '2020/12/15'     98       123     275.0\n",
            "16    16        60  '2020/12/16'     98       120     215.2\n",
            "17    17        60  '2020/12/17'    100       120     300.0\n",
            "18    18        45  '2020/12/18'     90       112       NaN\n",
            "19    19        60  '2020/12/19'    103       123     323.0\n",
            "20    20        45  '2020/12/20'     97       125     243.0\n",
            "21    21        60  '2020/12/21'    108       131     364.2\n",
            "22    22        45           NaN    100       119     282.0\n",
            "23    23        60  '2020/12/23'    130       101     300.0\n",
            "24    24        45  '2020/12/24'    105       132     246.0\n",
            "25    25        60  '2020/12/25'    102       126     334.5\n",
            "26    26        60    2020/12/26    100       120     250.0\n",
            "27    27        60  '2020/12/27'     92       118     241.0\n",
            "28    28        60  '2020/12/28'    103       132       NaN\n",
            "29    29        60  '2020/12/29'    100       132     280.0\n",
            "30    30        60  '2020/12/30'    102       129     380.3\n",
            "31    31        60  '2020/12/31'     92       115     243.0\n"
          ]
        }
      ]
    },
    {
      "cell_type": "markdown",
      "source": [
        "Replace Only For Specified Columns"
      ],
      "metadata": {
        "id": "MxKHkPys81-L"
      }
    },
    {
      "cell_type": "code",
      "source": [
        "df = pd.read_csv('data1.csv')\n",
        "\n",
        "df[\"Calories\"].fillna(130, inplace = True)\n",
        "print(df.to_string())"
      ],
      "metadata": {
        "id": "WVjKPZzb82si"
      },
      "execution_count": null,
      "outputs": []
    }
  ]
}